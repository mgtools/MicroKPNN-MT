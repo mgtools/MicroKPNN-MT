{
 "cells": [
  {
   "cell_type": "markdown",
   "id": "fa9e9950",
   "metadata": {},
   "source": [
    "# Interpretation of the predictive models"
   ]
  },
  {
   "cell_type": "code",
   "execution_count": null,
   "id": "9643356e",
   "metadata": {},
   "outputs": [],
   "source": [
    "import os\n",
    "import pickle\n",
    "import pandas as pd\n",
    "\n",
    "import torch\n",
    "import torch.nn.functional as F"
   ]
  },
  {
   "cell_type": "code",
   "execution_count": null,
   "id": "89113c19",
   "metadata": {},
   "outputs": [],
   "source": [
    "import numpy as np\n",
    "\n",
    "import matplotlib\n",
    "import matplotlib as mpl\n",
    "import matplotlib.pyplot as plt\n",
    "import matplotlib.patches as mpatches"
   ]
  },
  {
   "cell_type": "code",
   "execution_count": null,
   "id": "f9bdcb67",
   "metadata": {},
   "outputs": [],
   "source": [
    "disease_id2name = {'D006262': 'Healthy', 'D012141': 'RTIs', 'D016585': 'BV', 'D003550': 'Cystic Fibrosis', \n",
    "                'D029424': 'COPD', 'D047928': 'Premature Birth', 'D001249': 'Asthma', \n",
    "                'D045169': 'SARS', 'D016889': 'Endometrial Neoplasms', 'D019449': 'Pouchitis', \n",
    "                'D012136': 'RSV', 'D010034': 'OME', 'C562730': 'ADE of Esophagus', 'D014627': 'Vaginitis', \n",
    "                'D008175': 'Lung Neoplasms', 'D014777': 'Virus Diseases', 'D020345': 'NEC', \n",
    "                'D010300': 'Parkinson Disease', 'D011014': 'Pneumonia', 'D003424': 'Crohn Disease', \n",
    "                'D002692': 'Chlamydia', 'D043183': 'IBS', 'D011565': 'Psoriasis', 'D014890': 'GPA', \n",
    "                'C566241': 'ASD II', 'D012507': 'Sarcoidosis'}\n",
    "\n",
    "modified_hidden_nodes_name = {'24': 'C24', \n",
    "                            'CellobioseConsumptionimport': 'Cellobiose Consumption',\n",
    "                            '212': 'C212',\n",
    "                            'TrimethylamineN-oxideTrimethylamine-N-oxideProductionexport': 'Trimethylamine-N-oxide production', \n",
    "                            '152': 'C152', \n",
    "                            'ButanolConsumptionimport': 'Butanol consumption'}\n",
    "\n",
    "run_num = 20"
   ]
  },
  {
   "cell_type": "markdown",
   "id": "ec04e224",
   "metadata": {},
   "source": [
    "## 1. Heatmap: meta-data -> disease"
   ]
  },
  {
   "cell_type": "code",
   "execution_count": null,
   "id": "f67bd3ef",
   "metadata": {},
   "outputs": [],
   "source": [
    "def plot_att_heatmap(xlabel, ylabel, att, cmap='RdBu', figsize=(8,8), dpi=300, title=None, save_path=None, show=False): \n",
    "    fig, ax = plt.subplots(figsize=figsize)\n",
    "    if cmap == 'RdBu': \n",
    "        im = ax.imshow(att, cmap=cmap, vmin=-np.max(np.abs(att)), vmax=np.max(np.abs(att)))\n",
    "    else: \n",
    "        im = ax.imshow(att, cmap=cmap, vmin=0, vmax=np.max(np.abs(att)))\n",
    "    \n",
    "    # Show all ticks and label them with the respective list entries\n",
    "    ax.set_xticks(np.arange(len(xlabel)))\n",
    "    ax.set_yticks(np.arange(len(ylabel)))\n",
    "    ax.set_xticklabels(xlabel)\n",
    "    ax.set_yticklabels(ylabel)\n",
    "\n",
    "    # Rotate the tick labels and set their alignment\n",
    "    plt.setp(ax.get_xticklabels(), rotation=45, ha=\"right\",\n",
    "             rotation_mode=\"anchor\")\n",
    "\n",
    "    # Loop over data dimensions and create text annotations\n",
    "    for i in range(len(ylabel)): \n",
    "        for j in range(len(xlabel)): \n",
    "            text = ax.text(j, i, '{:.2f}'.format(att[i, j]),\n",
    "                           ha=\"center\", va=\"center\", color=\"k\", fontsize=5)\n",
    "\n",
    "    ax.set_title(title)\n",
    "    fig.tight_layout()\n",
    "    if save_path:\n",
    "        plt.savefig(save_path, dpi=dpi)\n",
    "        print('Save the figure into {}'.format(save_path))\n",
    "    if show:\n",
    "        plt.show()\n",
    "    plt.close()\n",
    "    \n",
    "def stack_sth(x, sth): \n",
    "    stacked_sth = []\n",
    "    sorted_x = {'{}_{}'.format(sth, str(i)): x['{}_{}'.format(sth, str(i))] \n",
    "                          for i in range(1, len(x.keys())+1)}\n",
    "    for k, v in sorted_x.items(): \n",
    "        stacked_sth.append(torch.nanmean(v, dim=0))\n",
    "    \n",
    "    stacked_sth = torch.stack(stacked_sth, dim=0)\n",
    "    return stacked_sth"
   ]
  },
  {
   "cell_type": "code",
   "execution_count": null,
   "id": "80ce8540",
   "metadata": {
    "scrolled": false
   },
   "outputs": [],
   "source": [
    "# Load dicts\n",
    "with open('./output/dict_explanation.pkl', 'rb') as file: \n",
    "    loaded_dicts = pickle.load(file)\n",
    "print('Loaded embedding dictionaries')\n",
    "\n",
    "allrun_atts = {'age': [], 'gender': [], 'bmi': [], 'bodysite': []}\n",
    "for exp_index in range(run_num): \n",
    "    # Load explanation results\n",
    "    with open('./output/Explain/explanation_sample_{}.pkl'.format(exp_index), 'rb') as file:\n",
    "        loaded_explaining_data = pickle.load(file)\n",
    "    print('Loaded exp_{}'.format(exp_index))\n",
    "    \n",
    "    # Plot heatmaps\n",
    "    for metadata in ['age', 'gender', 'bmi', 'bodysite']: \n",
    "        meta_disease = stack_sth(loaded_explaining_data['{}_disease_explanations'.format(metadata)], sth='disease')\n",
    "        att = np.array(meta_disease)\n",
    "        \n",
    "        meta_labels = [k for k in loaded_dicts[metadata].keys() if isinstance(k, str) and k != 'nan']\n",
    "        disease_labels = [disease_id2name[k] for k in loaded_dicts['disease'].keys() if isinstance(k, str) and k != 'nan']\n",
    "        \n",
    "#         if metadata == 'gender': \n",
    "#             plot_att_heatmap(['gender'], disease_labels, att, title='Run {}'.format(exp_index), \n",
    "#                              save_path='./output/Figures/{}_disease_exp_{}.png'.format(metadata, exp_index))\n",
    "#         else: \n",
    "#             plot_att_heatmap(meta_labels, disease_labels, att, title='Run {}'.format(exp_index), \n",
    "#                              save_path='./output/Figures/{}_disease_exp_{}.png'.format(metadata, exp_index))\n",
    "            \n",
    "        allrun_atts[metadata].append(att)"
   ]
  },
  {
   "cell_type": "code",
   "execution_count": null,
   "id": "ab379955",
   "metadata": {},
   "outputs": [],
   "source": [
    "# Average on runs\n",
    "allcls_atts = []\n",
    "allcls_meta_labels = []\n",
    "for metadata, att in allrun_atts.items():\n",
    "    att = np.mean(np.stack(att, axis=0), axis=0)\n",
    "    meta_labels = [k for k in loaded_dicts[metadata].keys() if isinstance(k, str) and k != 'nan']\n",
    "    disease_labels = [disease_id2name[k] for k in loaded_dicts['disease'].keys() if isinstance(k, str) and k != 'nan']\n",
    "        \n",
    "    if metadata == 'gender': \n",
    "        plot_att_heatmap(['gender'], disease_labels, att, \n",
    "                        save_path='./output/Figures/{}_disease.pdf'.format(metadata))\n",
    "    else: \n",
    "        plot_att_heatmap(meta_labels, disease_labels, att, \n",
    "                        save_path='./output/Figures/{}_disease.pdf'.format(metadata))\n",
    "    \n",
    "    allcls_atts.append(np.mean(np.abs(att), axis=1)) # one meta-data -> disease\n",
    "    allcls_meta_labels.append(metadata)"
   ]
  },
  {
   "cell_type": "code",
   "execution_count": null,
   "id": "784aa105",
   "metadata": {},
   "outputs": [],
   "source": [
    "# Sum attributes of different classes together\n",
    "allcls_atts = np.stack(allcls_atts, axis=1)\n",
    "disease_labels = [disease_id2name[k] for k in loaded_dicts['disease'].keys() if isinstance(k, str) and k != 'nan']\n",
    "\n",
    "plot_att_heatmap(disease_labels, allcls_meta_labels, np.transpose(allcls_atts), cmap='OrRd', \n",
    "                    save_path='./output/Figures/metadata_disease.pdf')"
   ]
  },
  {
   "cell_type": "markdown",
   "id": "f4bc933d",
   "metadata": {},
   "source": [
    "## 2. Violinplot: hidden layers -> meta-data"
   ]
  },
  {
   "cell_type": "code",
   "execution_count": null,
   "id": "836716ab",
   "metadata": {},
   "outputs": [],
   "source": [
    "# Load hidden layer meanings\n",
    "edge_list_path = './Dataset/genus/EdgeList.csv'\n",
    "\n",
    "metadatas = ['BMI', 'gender', 'age', 'bodysite', 'phenotype']\n",
    "edge_df = pd.read_csv(edge_list_path)\n",
    "\n",
    "parent_nodes = list(set(edge_df['parent'].tolist()))\n",
    "parent_nodes = [node for node in parent_nodes if node not in metadatas] # remove metadata from parent nodes\n",
    "parent_nodes.sort()\n",
    "print('parent_nodes num:', len(parent_nodes))\n",
    "\n",
    "hidden_nodes_id2name = {i: k for i, k in enumerate(parent_nodes)}"
   ]
  },
  {
   "cell_type": "code",
   "execution_count": null,
   "id": "b19aba4c",
   "metadata": {},
   "outputs": [],
   "source": [
    "# Load groups of hidden layer\n",
    "community_nodes = pd.read_csv('./Dataset/genus/communityNodes.csv')\n",
    "metabolite_nodes = pd.read_csv('./Dataset/genus/metaboliteNodes.csv')\n",
    "taxonomy_nodes = pd.read_csv('./Dataset/genus/taxonomyNodes.csv')\n",
    "\n",
    "dict1 = {str(k): 'community' for k in community_nodes['nodes'].tolist()}\n",
    "dict2 = {k: 'metabolite' for k in metabolite_nodes['nodes'].tolist()}\n",
    "dict3 = {k: 'taxon (genus)' for k in taxonomy_nodes['nodes'].tolist()}\n",
    "\n",
    "hidden_nodes_name2group = {**dict1, **dict2, **dict3}"
   ]
  },
  {
   "cell_type": "code",
   "execution_count": null,
   "id": "f43fd75f",
   "metadata": {},
   "outputs": [],
   "source": [
    "# Load dicts\n",
    "with open('./output/dict_explanation.pkl', 'rb') as file: \n",
    "    loaded_dicts = pickle.load(file)\n",
    "print('Loaded embedding dictionaries')\n",
    "\n",
    "allrun_atts = {'age': [], 'gender': [], 'bmi': [], 'bodysite': []}\n",
    "for exp_index in range(run_num): \n",
    "    # Load explanation results\n",
    "    with open('./output/Explain/explanation_sample_{}.pkl'.format(exp_index), 'rb') as file:\n",
    "        loaded_explaining_data = pickle.load(file)\n",
    "    print('Loaded exp_{}'.format(exp_index))\n",
    "    \n",
    "    for metadata in ['age', 'gender', 'bmi', 'bodysite']: \n",
    "        hidden_meta = stack_sth(loaded_explaining_data['hidden_{}_explanations'.format(metadata)], sth=metadata)\n",
    "        att = np.array(hidden_meta)\n",
    "        att = np.abs(att) # now we do not consider positive or nagetive impact\n",
    "        \n",
    "        allrun_atts[metadata].append(att)"
   ]
  },
  {
   "cell_type": "code",
   "execution_count": null,
   "id": "d2504a98",
   "metadata": {},
   "outputs": [],
   "source": [
    "# Average on runs and classes\n",
    "allcls_atts = {}\n",
    "for metadata, att in allrun_atts.items():\n",
    "    att = np.mean(np.stack(att, axis=0), axis=1)\n",
    "    allcls_atts[metadata] = att # hidden nodes -> one meta-data\n",
    "    print(metadata, att.shape)"
   ]
  },
  {
   "cell_type": "markdown",
   "id": "fd18e701",
   "metadata": {},
   "source": [
    "### top-15 among all groups"
   ]
  },
  {
   "cell_type": "code",
   "execution_count": null,
   "id": "4f243613",
   "metadata": {
    "scrolled": false
   },
   "outputs": [],
   "source": [
    "# settings\n",
    "dpi = 300\n",
    "figsize = (6,6)\n",
    "group_colors = {'community': 'tab:green', 'metabolite': 'tab:orange', 'taxon (genus)': 'tab:blue'}\n",
    "k_num = 15\n",
    "\n",
    "# create patches for legend\n",
    "patches = []\n",
    "for k, v in group_colors.items():\n",
    "    patches.append(mpatches.Patch(color=v, label=k, alpha=0.6))\n",
    "\n",
    "    \n",
    "for metadata in ['age', 'gender', 'bmi', 'bodysite']: \n",
    "    save_path = './output/Figures/hidden_{}.pdf'.format(metadata)\n",
    "\n",
    "    avg_att = np.mean(allcls_atts[metadata], axis=0)\n",
    "    \n",
    "    # got the top-20 hidden nodes according to avg_att\n",
    "    top_k_indices = np.argsort(avg_att)[::-1][:k_num] \n",
    "    top_k_names = [hidden_nodes_id2name[int(i)] for i in top_k_indices]\n",
    "    print(top_k_names)\n",
    "    top_k_groups = [hidden_nodes_name2group[name] for name in top_k_names]\n",
    "    top_k_colors = [group_colors[g] for g in top_k_groups]\n",
    "    top_k_att = allcls_atts[metadata][:, top_k_indices] \n",
    "\n",
    "    fig, ax = plt.subplots(figsize=figsize)\n",
    "    plots = plt.violinplot([top_k_att[:, i] for i in range(top_k_att.shape[1])],\n",
    "                      showmeans=True, showmedians=True, vert=False)\n",
    "    \n",
    "    # Set the color of the violin patches\n",
    "    for pc, color in zip(plots['bodies'], top_k_colors): \n",
    "        pc.set_facecolor(color)\n",
    "\n",
    "    # Set the color of the lines\n",
    "    plots['cmedians'].set_colors(top_k_colors)\n",
    "    plots['cbars'].set_colors(top_k_colors)\n",
    "    plots['cmaxes'].set_colors(top_k_colors)\n",
    "    plots['cmins'].set_colors(top_k_colors)\n",
    "    plots['cmeans'].set_colors('k')\n",
    "    \n",
    "    plt.yticks([i for i in range(1, k_num+1)], \n",
    "               [modified_hidden_nodes_name[n] if n in modified_hidden_nodes_name.keys() else n for n in top_k_names], \n",
    "               rotation=0)\n",
    "    plt.xlabel('importance')\n",
    "    # plt.title('Top-k contributing hidden nodes for {}'.format(metadata))\n",
    "    plt.legend(handles=patches, loc='upper right')\n",
    "    \n",
    "    plt.savefig(save_path, dpi=dpi, bbox_inches='tight')\n",
    "    # plt.show()\n",
    "    plt.close()\n",
    "    print('Save the figure into {}'.format(save_path))"
   ]
  },
  {
   "cell_type": "code",
   "execution_count": null,
   "id": "fef82fc6",
   "metadata": {},
   "outputs": [],
   "source": []
  }
 ],
 "metadata": {
  "kernelspec": {
   "display_name": "microkpnn",
   "language": "python",
   "name": "microkpnn"
  },
  "language_info": {
   "codemirror_mode": {
    "name": "ipython",
    "version": 3
   },
   "file_extension": ".py",
   "mimetype": "text/x-python",
   "name": "python",
   "nbconvert_exporter": "python",
   "pygments_lexer": "ipython3",
   "version": "3.7.16"
  }
 },
 "nbformat": 4,
 "nbformat_minor": 5
}
